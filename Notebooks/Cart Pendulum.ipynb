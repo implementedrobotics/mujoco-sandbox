{
 "cells": [
  {
   "cell_type": "code",
   "execution_count": 1,
   "id": "921bfa1d",
   "metadata": {},
   "outputs": [],
   "source": [
    "import sympy as sp\n",
    "\n",
    "# Optional\n",
    "from sympy.physics.mechanics import dynamicsymbols, init_vprinting\n",
    "\n",
    "# Constants\n",
    "m1 = sp.symbols('m1') # Cart Mass\n",
    "m2 = sp.symbols('m2') # Pendulum Mass\n",
    "l = sp.symbols('l') # Pendulum Length\n",
    "g = sp.symbols('g') # Gravity\n",
    "t = sp.symbols('t') # Time\n",
    "F = sp.symbols('F') # Cart Force\n",
    "\n",
    "# State variables\n",
    "x = sp.Function('x')(t) # Cart Position\n",
    "\n",
    "# Alternate Way\n",
    "#x = dynamicsymbols('x') # Cart Position\n",
    "\n",
    "x_dot = sp.diff(x, t) # Cart Velocity\n",
    "theta = sp.Function('theta')(t) # Pendulum Angle\n",
    "theta_dot = sp.diff(theta, t) # Pendulum Angular Velocity\n",
    "x_ddot = sp.diff(x_dot, t) # Cart Acceleration\n",
    "theta_ddot = sp.diff(theta_dot, t) # Pendulum Angularb Acceleration\n",
    "\n",
    "\n",
    "x_m = sp.Function('x_m')(t) # Pendulum Mass Position (X)\n",
    "y_m = sp.Function('y_m')(t) # Pendulum Mass Position (Y)\n",
    "\n",
    "x_m_dot = sp.diff('x_m_dot', t) # Pendulum Mass Velocity (X)\n",
    "y_m_dot = sp.diff('y_m_dot', t) # Pendulum Mass Velocity (Y)\n",
    "\n",
    "init_vprinting()"
   ]
  },
  {
   "cell_type": "code",
   "execution_count": 2,
   "id": "58392634",
   "metadata": {},
   "outputs": [
    {
     "data": {
      "image/png": "[encoded data removed]",
      "text/latex": [
       "$\\displaystyle l \\cos{\\left(\\theta \\right)} \\dot{\\theta} + \\dot{x}$"
      ],
      "text/plain": [
       "l⋅cos(θ)⋅θ̇ + ẋ"
      ]
     },
     "metadata": {},
     "output_type": "display_data"
    },
    {
     "data": {
      "image/png": "[encoded data removed]",
      "text/latex": [
       "$\\displaystyle \\frac{l^{2} m_{2} \\sin^{2}{\\left(\\theta \\right)} \\dot{\\theta}^{2}}{2} + \\frac{m_{1} \\dot{x}^{2}}{2} + \\frac{m_{2} \\left(l \\cos{\\left(\\theta \\right)} \\dot{\\theta} + \\dot{x}\\right)^{2}}{2}$"
      ],
      "text/plain": [
       " 2       2     2       2                      2\n",
       "l ⋅m₂⋅sin (θ)⋅θ̇    m₁⋅ẋ    m₂⋅(l⋅cos(θ)⋅θ̇ + ẋ) \n",
       "──────────────── + ───── + ────────────────────\n",
       "       2             2              2          "
      ]
     },
     "metadata": {},
     "output_type": "display_data"
    },
    {
     "data": {
      "image/png": "[encoded data removed]",
      "text/latex": [
       "$\\displaystyle g l m_{2} \\cos{\\left(\\theta \\right)}$"
      ],
      "text/plain": [
       "g⋅l⋅m₂⋅cos(θ)"
      ]
     },
     "metadata": {},
     "output_type": "display_data"
    }
   ],
   "source": [
    "# Lagrangian\n",
    "\n",
    "# Intermediate Variables\n",
    "x_m = x + l * sp.sin(theta)\n",
    "y_m = l * sp.cos(theta)\n",
    "\n",
    "x_m_dot = sp.diff(x_m, t)\n",
    "y_m_dot = sp.diff(y_m, t)\n",
    "\n",
    "\n",
    "# Potential Energy ( Gravitational Potential of the Pendulum Mass )\n",
    "U = m2 * g *  y_m\n",
    "\n",
    "# Kinetic Energy\n",
    "T_cart = sp.Rational(1, 2) * m1 * x_dot**2\n",
    "\n",
    "T_pendulum = sp.Rational(1,2) * m2 * x_m_dot**2 + sp.Rational(1,2) * m2 * y_m_dot**2\n",
    "T = T_cart + T_pendulum\n",
    "display(x_m_dot)\n",
    "display(T)\n",
    "display(U)\n",
    "\n",
    "\n",
    "\n"
   ]
  },
  {
   "cell_type": "code",
   "execution_count": 3,
   "id": "f2683a20",
   "metadata": {},
   "outputs": [
    {
     "data": {
      "image/png": "[encoded data removed]",
      "text/latex": [
       "$\\displaystyle m_{1} \\ddot{x} + \\frac{m_{2} \\cdot \\left(2 l \\ddot{\\theta} + 2 \\ddot{x}\\right)}{2}$"
      ],
      "text/plain": [
       "       m₂⋅(2⋅l⋅θ̈ + 2⋅ẍ)\n",
       "m₁⋅ẍ + ────────────────\n",
       "              2        "
      ]
     },
     "metadata": {},
     "output_type": "display_data"
    },
    {
     "data": {
      "image/png": "[encoded data removed]",
      "text/latex": [
       "$\\displaystyle \\left[ \\frac{F - l m_{2} \\ddot{\\theta}}{m_{1} + m_{2}}\\right]$"
      ],
      "text/plain": [
       "⎡F - l⋅m₂⋅θ̈⎤\n",
       "⎢──────────⎥\n",
       "⎣ m₁ + m₂  ⎦"
      ]
     },
     "metadata": {},
     "output_type": "display_data"
    },
    {
     "data": {
      "image/png": "[encoded data removed]",
      "text/latex": [
       "$\\displaystyle l m_{2} \\left(- g \\sin{\\left(\\theta \\right)} + l \\ddot{\\theta} + \\cos{\\left(\\theta \\right)} \\ddot{x}\\right)$"
      ],
      "text/plain": [
       "l⋅m₂⋅(-g⋅sin(θ) + l⋅θ̈ + cos(θ)⋅ẍ)"
      ]
     },
     "metadata": {},
     "output_type": "display_data"
    },
    {
     "data": {
      "image/png": "[encoded data removed]",
      "text/latex": [
       "$\\displaystyle l m_{2} \\left(- g \\theta + l \\ddot{\\theta} + \\ddot{x}\\right)$"
      ],
      "text/plain": [
       "l⋅m₂⋅(-g⋅θ + l⋅θ̈ + ẍ)"
      ]
     },
     "metadata": {},
     "output_type": "display_data"
    },
    {
     "data": {
      "image/png": "[encoded data removed]",
      "text/latex": [
       "$\\displaystyle \\left[ - F + m_{1} \\ddot{x} + m_{2} \\left(l \\ddot{\\theta} + \\ddot{x}\\right), \\  l m_{2} \\left(- g \\theta + l \\ddot{\\theta} + \\ddot{x}\\right)\\right]$"
      ],
      "text/plain": [
       "[-F + m₁⋅ẍ + m₂⋅(l⋅θ̈ + ẍ), l⋅m₂⋅(-g⋅θ + l⋅θ̈ + ẍ)]"
      ]
     },
     "metadata": {},
     "output_type": "display_data"
    },
    {
     "data": {
      "text/plain": [
       "'HI!'"
      ]
     },
     "metadata": {},
     "output_type": "display_data"
    },
    {
     "data": {
      "image/png": "[encoded data removed]",
      "text/latex": [
       "$\\displaystyle \\left\\{ \\ddot{\\theta} : \\frac{- F + g m_{1} \\theta + g m_{2} \\theta}{l m_{1}}, \\  \\ddot{x} : \\frac{F - g m_{2} \\theta}{m_{1}}\\right\\}$"
      ],
      "text/plain": [
       "⎧   -F + g⋅m₁⋅θ + g⋅m₂⋅θ     F - g⋅m₂⋅θ⎫\n",
       "⎨θ̈: ────────────────────, ẍ: ──────────⎬\n",
       "⎩           l⋅m₁                 m₁    ⎭"
      ]
     },
     "metadata": {},
     "output_type": "display_data"
    },
    {
     "data": {
      "text/latex": [
       "$\\displaystyle \\left[\\begin{matrix}\\dot{x}\\\\\\dot{\\theta}\\\\\\frac{F - g m_{2} \\theta}{m_{1}}\\\\\\frac{- F + g m_{1} \\theta + g m_{2} \\theta}{l m_{1}}\\end{matrix}\\right]$"
      ],
      "text/plain": [
       "⎡         ẋ          ⎤\n",
       "⎢                    ⎥\n",
       "⎢         θ̇          ⎥\n",
       "⎢                    ⎥\n",
       "⎢     F - g⋅m₂⋅θ     ⎥\n",
       "⎢     ──────────     ⎥\n",
       "⎢         m₁         ⎥\n",
       "⎢                    ⎥\n",
       "⎢-F + g⋅m₁⋅θ + g⋅m₂⋅θ⎥\n",
       "⎢────────────────────⎥\n",
       "⎣        l⋅m₁        ⎦"
      ]
     },
     "metadata": {},
     "output_type": "display_data"
    },
    {
     "data": {
      "text/latex": [
       "$\\displaystyle \\left[\\begin{matrix}0 & 0 & 1 & 0\\\\0 & 0 & 0 & 1\\\\0 & - \\frac{g m_{2}}{m_{1}} & 0 & 0\\\\0 & \\frac{g m_{1} + g m_{2}}{l m_{1}} & 0 & 0\\end{matrix}\\right]$"
      ],
      "text/plain": [
       "⎡0       0       1  0⎤\n",
       "⎢                    ⎥\n",
       "⎢0       0       0  1⎥\n",
       "⎢                    ⎥\n",
       "⎢     -g⋅m₂          ⎥\n",
       "⎢0    ──────     0  0⎥\n",
       "⎢       m₁           ⎥\n",
       "⎢                    ⎥\n",
       "⎢   g⋅m₁ + g⋅m₂      ⎥\n",
       "⎢0  ───────────  0  0⎥\n",
       "⎣       l⋅m₁         ⎦"
      ]
     },
     "metadata": {},
     "output_type": "display_data"
    },
    {
     "data": {
      "text/latex": [
       "$\\displaystyle \\left[\\begin{matrix}0 & 0 & 1 & 0\\\\0 & 0 & 0 & 1\\\\0 & - \\frac{g m_{2}}{m_{1}} & 0 & 0\\\\0 & \\frac{g m_{1} + g m_{2}}{l m_{1}} & 0 & 0\\end{matrix}\\right]$"
      ],
      "text/plain": [
       "⎡0       0       1  0⎤\n",
       "⎢                    ⎥\n",
       "⎢0       0       0  1⎥\n",
       "⎢                    ⎥\n",
       "⎢     -g⋅m₂          ⎥\n",
       "⎢0    ──────     0  0⎥\n",
       "⎢       m₁           ⎥\n",
       "⎢                    ⎥\n",
       "⎢   g⋅m₁ + g⋅m₂      ⎥\n",
       "⎢0  ───────────  0  0⎥\n",
       "⎣       l⋅m₁         ⎦"
      ]
     },
     "metadata": {},
     "output_type": "display_data"
    },
    {
     "data": {
      "text/latex": [
       "$\\displaystyle \\left[\\begin{matrix}0 & 0 & 1.0 & 0\\\\0 & 0 & 0 & 1.0\\\\0 & -1.962 & 0 & 0\\\\0 & 2.943 & 0 & 0\\end{matrix}\\right]$"
      ],
      "text/plain": [
       "⎡0    0     1.0   0 ⎤\n",
       "⎢                   ⎥\n",
       "⎢0    0      0   1.0⎥\n",
       "⎢                   ⎥\n",
       "⎢0  -1.962   0    0 ⎥\n",
       "⎢                   ⎥\n",
       "⎣0  2.943    0    0 ⎦"
      ]
     },
     "metadata": {},
     "output_type": "display_data"
    },
    {
     "data": {
      "text/latex": [
       "$\\displaystyle \\left[\\begin{matrix}\\dot{x}\\\\\\dot{\\theta}\\\\\\frac{F - g m_{2} \\theta}{m_{1}}\\\\\\frac{- F + g m_{1} \\theta + g m_{2} \\theta}{l m_{1}}\\end{matrix}\\right]$"
      ],
      "text/plain": [
       "⎡         ẋ          ⎤\n",
       "⎢                    ⎥\n",
       "⎢         θ̇          ⎥\n",
       "⎢                    ⎥\n",
       "⎢     F - g⋅m₂⋅θ     ⎥\n",
       "⎢     ──────────     ⎥\n",
       "⎢         m₁         ⎥\n",
       "⎢                    ⎥\n",
       "⎢-F + g⋅m₁⋅θ + g⋅m₂⋅θ⎥\n",
       "⎢────────────────────⎥\n",
       "⎣        l⋅m₁        ⎦"
      ]
     },
     "metadata": {},
     "output_type": "display_data"
    },
    {
     "data": {
      "text/latex": [
       "$\\displaystyle \\left[\\begin{matrix}0\\\\0\\\\\\frac{1}{m_{1}}\\\\- \\frac{1}{l m_{1}}\\end{matrix}\\right]$"
      ],
      "text/plain": [
       "⎡ 0  ⎤\n",
       "⎢    ⎥\n",
       "⎢ 0  ⎥\n",
       "⎢    ⎥\n",
       "⎢ 1  ⎥\n",
       "⎢ ── ⎥\n",
       "⎢ m₁ ⎥\n",
       "⎢    ⎥\n",
       "⎢-1  ⎥\n",
       "⎢────⎥\n",
       "⎣l⋅m₁⎦"
      ]
     },
     "metadata": {},
     "output_type": "display_data"
    },
    {
     "data": {
      "text/latex": [
       "$\\displaystyle \\left[\\begin{matrix}0\\\\0\\\\0.2\\\\-0.05\\end{matrix}\\right]$"
      ],
      "text/plain": [
       "⎡  0  ⎤\n",
       "⎢     ⎥\n",
       "⎢  0  ⎥\n",
       "⎢     ⎥\n",
       "⎢ 0.2 ⎥\n",
       "⎢     ⎥\n",
       "⎣-0.05⎦"
      ]
     },
     "metadata": {},
     "output_type": "display_data"
    },
    {
     "name": "stdout",
     "output_type": "stream",
     "text": [
      "DONME\n"
     ]
    },
    {
     "data": {
      "image/png": "[encoded data removed]",
      "text/latex": [
       "$\\displaystyle \\left[ - F + m_{1} \\ddot{x} + m_{2} \\left(- l \\sin{\\left(\\theta \\right)} \\dot{\\theta}^{2} + l \\cos{\\left(\\theta \\right)} \\ddot{\\theta} + \\ddot{x}\\right), \\  l m_{2} \\left(- g \\sin{\\left(\\theta \\right)} + l \\ddot{\\theta} + \\cos{\\left(\\theta \\right)} \\ddot{x}\\right)\\right]$"
      ],
      "text/plain": [
       "⎡               ⎛            2                 ⎞                                   ⎤\n",
       "⎣-F + m₁⋅ẍ + m₂⋅⎝- l⋅sin(θ)⋅θ̇  + l⋅cos(θ)⋅θ̈ + ẍ⎠, l⋅m₂⋅(-g⋅sin(θ) + l⋅θ̈ + cos(θ)⋅ẍ)⎦"
      ]
     },
     "metadata": {},
     "output_type": "display_data"
    },
    {
     "data": {
      "text/plain": [
       "'x_ddot: '"
      ]
     },
     "metadata": {},
     "output_type": "display_data"
    },
    {
     "data": {
      "image/png": "[encoded data removed]",
      "text/latex": [
       "$\\displaystyle \\frac{F - \\frac{g m_{2} \\sin{\\left(2 \\theta \\right)}}{2} + l m_{2} \\sin{\\left(\\theta \\right)} \\dot{\\theta}^{2}}{m_{1} + m_{2} \\sin^{2}{\\left(\\theta \\right)}}$"
      ],
      "text/plain": [
       "    g⋅m₂⋅sin(2⋅θ)                2\n",
       "F - ───────────── + l⋅m₂⋅sin(θ)⋅θ̇ \n",
       "          2                       \n",
       "──────────────────────────────────\n",
       "                    2             \n",
       "         m₁ + m₂⋅sin (θ)          "
      ]
     },
     "metadata": {},
     "output_type": "display_data"
    },
    {
     "data": {
      "text/plain": [
       "'theta_ddot: '"
      ]
     },
     "metadata": {},
     "output_type": "display_data"
    },
    {
     "data": {
      "image/png": "[encoded data removed]",
      "text/latex": [
       "$\\displaystyle \\frac{- F \\cos{\\left(\\theta \\right)} + g m_{1} \\sin{\\left(\\theta \\right)} + g m_{2} \\sin{\\left(\\theta \\right)} - \\frac{l m_{2} \\sin{\\left(2 \\theta \\right)} \\dot{\\theta}^{2}}{2}}{l \\left(m_{1} + m_{2} \\sin^{2}{\\left(\\theta \\right)}\\right)}$"
      ],
      "text/plain": [
       "                                                       2\n",
       "                                        l⋅m₂⋅sin(2⋅θ)⋅θ̇ \n",
       "-F⋅cos(θ) + g⋅m₁⋅sin(θ) + g⋅m₂⋅sin(θ) - ────────────────\n",
       "                                               2        \n",
       "────────────────────────────────────────────────────────\n",
       "                    ⎛           2   ⎞                   \n",
       "                  l⋅⎝m₁ + m₂⋅sin (θ)⎠                   "
      ]
     },
     "metadata": {},
     "output_type": "display_data"
    },
    {
     "data": {
      "image/png": "[encoded data removed]",
      "text/latex": [
       "$\\displaystyle \\frac{- F + g m_{1} \\theta + g m_{2} \\theta}{l \\left(m_{1} + m_{2} \\theta^{2}\\right)}$"
      ],
      "text/plain": [
       "-F + g⋅m₁⋅θ + g⋅m₂⋅θ\n",
       "────────────────────\n",
       "     ⎛         2⎞   \n",
       "   l⋅⎝m₁ + m₂⋅θ ⎠   "
      ]
     },
     "metadata": {},
     "output_type": "display_data"
    }
   ],
   "source": [
    "# Lagrangian\n",
    "L = T - U\n",
    "\n",
    "#display(L)\n",
    "# TODO: TIDY THE BELOW LINEARIZATION UP AND MOVE TO NEW BLOCK\n",
    "\n",
    "eom_x = sp.diff(sp.diff(L, x_dot), t) - sp.diff(L, x)\n",
    "#display(eom_x)\n",
    "# Linearize X\n",
    "test_eom_x = eom_x.subs({sp.sin(theta): theta, sp.cos(theta): 1})\n",
    "test_eom_x = test_eom_x.subs({sp.cos(theta): 1})\n",
    "test_eom_x = test_eom_x.subs({theta_dot**2: 0})\n",
    "display(test_eom_x)\n",
    "\n",
    "display(sp.solve(test_eom_x- F, [x_ddot]))\n",
    "\n",
    "# Linearize Theta\n",
    "eom_theta = sp.trigsimp(sp.diff(sp.diff(L, theta_dot), t) - sp.diff(L, theta))\n",
    "\n",
    "display(eom_theta)\n",
    "test_eom_theta = eom_theta.subs({sp.sin(theta): theta, sp.cos(theta): 1, theta_dot**2: 0})\n",
    "display(test_eom_theta)\n",
    "\n",
    "\n",
    "eom_linear = [sp.simplify(test_eom_x - F), (test_eom_theta)]\n",
    "display(eom_linear)\n",
    "display(\"HI!\")\n",
    "\n",
    "accelerations_linear = sp.solve(eom_linear, [x_ddot, theta_ddot])\n",
    "display(accelerations_linear)\n",
    "\n",
    "x_1 = x\n",
    "x_2 = theta\n",
    "x_3 = x_dot\n",
    "x_4 = theta_dot\n",
    "\n",
    "\n",
    "x_dot_sys = sp.Matrix([x_3, x_4, accelerations_linear[x_ddot], accelerations_linear[theta_ddot]])\n",
    "\n",
    "display(x_dot_sys)\n",
    "df_dx = x_dot_sys.jacobian([x_1, x_2, x_3, x_4])\n",
    "display(df_dx)\n",
    "\n",
    "A = df_dx.subs([(x_1, 0), (x_2, 0), (x_3, 0), (x_4, 0)])\n",
    "display(A)\n",
    "A = A.evalf(subs={m1: 5, m2: 1, g: 9.81, l: 4.0})\n",
    "display(A)\n",
    "\n",
    "x_dot_sys = sp.Matrix([x_3, x_4, accelerations_linear[x_ddot], accelerations_linear[theta_ddot]])\n",
    "display(x_dot_sys)\n",
    "df_du = x_dot_sys.jacobian([(F)])\n",
    "B = df_du.subs([(F, 0)])\n",
    "display(B)\n",
    "B = B.evalf(subs={m1: 5, m2: 1, g: 9.81, l: 4.0})\n",
    "display(B)\n",
    "print(\"DONME\")\n",
    "\n",
    "\n",
    "eom = [sp.simplify(eom_x - F), (eom_theta)]\n",
    "display(eom)\n",
    "\n",
    "accelerations = sp.solve(eom, [x_ddot, theta_ddot])\n",
    "display(\"x_ddot: \", sp.simplify(accelerations[x_ddot]))\n",
    "display(\"theta_ddot: \", sp.trigsimp(sp.simplify(accelerations[theta_ddot])))\n",
    "\n",
    "theta_test = sp.trigsimp(sp.simplify(accelerations[theta_ddot]))\n",
    "\n",
    "# Linearize, Small\n",
    "test = theta_test.subs({sp.sin(theta): theta, sp.cos(theta): 1, theta_dot: 0})\n",
    "\n",
    "display(test)"
   ]
  },
  {
   "cell_type": "code",
   "execution_count": 4,
   "id": "8a5edd71",
   "metadata": {},
   "outputs": [
    {
     "data": {
      "image/png": "[encoded data removed]",
      "text/plain": [
       "<Figure size 800x600 with 2 Axes>"
      ]
     },
     "metadata": {},
     "output_type": "display_data"
    }
   ],
   "source": [
    "from scipy.integrate import solve_ivp\n",
    "import matplotlib.pyplot as plt\n",
    "import math\n",
    "\n",
    "import numpy as np\n",
    "\n",
    "F = 0\n",
    "m1 = 5.0\n",
    "m2 = 1.0\n",
    "l = 4.0\n",
    "g = 9.81\n",
    "\n",
    "def system_dynamics(t, state):\n",
    "    x, theta, x_dot, theta_dot = state\n",
    "    x_ddot = (F - (g*m2*math.sin(2*theta))/2 + l * m2 * math.sin(theta)*theta_dot**2)/(m1+m2*math.sin(theta)**2)\n",
    "    theta_ddot = (-F * math.cos(theta) + g * m1 * math.sin(theta) + g *m2*math.sin(theta)-((l*m2*math.sin(2*theta)*theta_dot**2)/2))/(l*(m1 + m2*math.sin(theta)**2))\n",
    "    \n",
    "    return [x_dot, theta_dot, x_ddot, theta_ddot]\n",
    "\n",
    "#print(system_dynamics(0, [0,0,.1,0]))\n",
    "\n",
    "\n",
    "# Initial conditions\n",
    "x0 = 0.0\n",
    "x_dot0 = 0.0\n",
    "theta0 = math.pi/2.0  # Small angle deviation\n",
    "theta_dot0 = 0.0\n",
    "initial_state = [x0, theta0, x_dot0, theta_dot0]\n",
    "\n",
    "\n",
    "t_span = (0,10)\n",
    "t_eval = np.linspace(t_span[0], t_span[1], 1000)\n",
    "\n",
    "# Solve\n",
    "\n",
    "result = solve_ivp(system_dynamics, t_span, initial_state, t_eval=t_eval, method='RK23')\n",
    "\n",
    "\n",
    "\n",
    "# Plot the results\n",
    "fig, ax = plt.subplots(2, 1, figsize=(8, 6))\n",
    "ax[0].plot(result.y[0], label='x(t)')\n",
    "ax[0].set_ylabel('Cart Position')\n",
    "ax[0].legend()\n",
    "\n",
    "ax[1].plot(result.t, result.y[1], label='θ(t)')\n",
    "ax[1].set_xlabel('Time (s)')\n",
    "ax[1].set_ylabel('Pendulum Angle (rad)')\n",
    "ax[1].legend()\n",
    "\n",
    "plt.show()\n"
   ]
  },
  {
   "cell_type": "code",
   "execution_count": 5,
   "id": "e75050d7",
   "metadata": {
    "scrolled": true
   },
   "outputs": [
    {
     "name": "stdout",
     "output_type": "stream",
     "text": [
      "[[ 0.          0.          1.          0.        ]\n",
      " [ 0.          0.          0.          1.        ]\n",
      " [ 0.         -1.96199998  0.          0.        ]\n",
      " [ 0.          2.94299999  0.          0.        ]]\n",
      "[[ 0.  ]\n",
      " [ 0.  ]\n",
      " [ 0.2 ]\n",
      " [-0.05]]\n",
      "Ad = [[ 1.00000000e+00 -9.81024051e-05  1.00000000e-02 -3.27004809e-07]\n",
      " [ 0.00000000e+00  1.00014715e+00  0.00000000e+00  1.00004905e-02]\n",
      " [ 0.00000000e+00 -1.96209622e-02  1.00000000e+00 -9.81024051e-05]\n",
      " [ 0.00000000e+00  2.94314435e-02  0.00000000e+00  1.00014715e+00]]\n",
      "Bd = [[ 1.00000409e-05]\n",
      " [-2.50006131e-06]\n",
      " [ 2.00001635e-03]\n",
      " [-5.00024525e-04]]\n"
     ]
    }
   ],
   "source": [
    "# This Checks\n",
    "# Now For Numerical Linearizations\n",
    "# Steps...\n",
    "# Function to compute x_dot = f(x) [Done]\n",
    "# Function compute finite difference of f(x) with perturbations etc \n",
    "# f(x_eq + h) - f(x_eq) / h where h is a small perturbation\n",
    "# Function to extract A, B Linear Matrices, linearize()\n",
    "\n",
    "\n",
    "import numpy as np\n",
    "from scipy.signal import cont2discrete, lti, dlti, dstep\n",
    "\n",
    "\n",
    "def linear(t, state):\n",
    "    x, theta, x_dot, theta_dot = state\n",
    "    x_ddot = (F - (g*m2*math.sin(2*theta))/2 + l * m2 * math.sin(theta)*theta_dot**2)/(m1+m2*math.sin(theta)**2)\n",
    "    theta_ddot = (-F * math.cos(theta) + g * m1 * math.sin(theta) + g *m2*math.sin(theta)-((l*m2*math.sin(2*theta)*theta_dot**2)/2))/(l*(m1 + m2*math.sin(theta)**2))\n",
    "    \n",
    "    return [x_dot, theta_dot, x_ddot, theta_ddot]\n",
    "\n",
    "def f(x, u):\n",
    "    \n",
    "    # Extract current state\n",
    "    x_pos, theta, x_dot, theta_dot = x\n",
    "    \n",
    "    # Force Input\n",
    "    F = u[0]\n",
    "    \n",
    "    x_ddot = (F - (g*m2*math.sin(2*theta))/2 + l * m2 * math.sin(theta)*theta_dot**2)/(m1+m2*math.sin(theta)**2)\n",
    "    theta_ddot = (-F * math.cos(theta) + g * m1 * math.sin(theta) + g *m2*math.sin(theta)-((l*m2*math.sin(2*theta)*theta_dot**2)/2))/(l*(m1 + m2*math.sin(theta)**2))\n",
    "    \n",
    "    return np.array([x_dot, theta_dot, x_ddot, theta_ddot])\n",
    "\n",
    "def fdm(f, x0, u0, h):\n",
    "    f_x0 = f(x0, u)\n",
    "    \n",
    "def linearize(f, x0, u0, perturbation=1e-4):\n",
    "    \n",
    "    # Extract state and input size\n",
    "    num_states = len(x0)\n",
    "    num_inputs = len(u0)\n",
    "    \n",
    "    # System Matrix\n",
    "    A = np.zeros((num_states, num_states))\n",
    "    \n",
    "    # Input Matrix\n",
    "    B = np.zeros((num_states, num_inputs))\n",
    "    \n",
    "    # Initial Equilibrium Result\n",
    "    f_x0 = f(x0, u0)\n",
    "    \n",
    "    # Linearize System Matrix\n",
    "    for n in range(num_states):\n",
    "        \n",
    "        # Cache Eq point pre-perturb\n",
    "        x_eval = x0.copy()\n",
    "        \n",
    "        \n",
    "        # Add perturbation\n",
    "        x_eval[n] += perturbation\n",
    "        \n",
    "        A[:, n] = (f(x_eval, u0) - f_x0) / perturbation\n",
    "        \n",
    "    \n",
    "    for n in range(num_inputs):\n",
    "        \n",
    "        # Cache Eq point pre-perturb\n",
    "        u_eval = u0.copy()\n",
    "        \n",
    "        \n",
    "        # Add perturbation\n",
    "        u_eval[n] += perturbation\n",
    "        \n",
    "        B[:, n] = (f(x0, u_eval) - f_x0) / perturbation\n",
    "    \n",
    "    \n",
    "    return A, B\n",
    "        \n",
    "# Equilibirum points\n",
    "x_eq = 0\n",
    "x_dot_eq = 0\n",
    "theta_eq = 0\n",
    "theta_dot_eq = 0\n",
    "x0 = [x_eq, theta_eq, x_dot_eq, theta_dot_eq]\n",
    "u0 = [0]\n",
    "\n",
    "A, B = linearize(f=f, x0=x0, u0 = u0)\n",
    "print(A)\n",
    "print(B)\n",
    "\n",
    "C = np.ones((4, 4))\n",
    "D = np.ones((4, 1))\n",
    "\n",
    "# Define sampling interval T\n",
    "T = 0.01\n",
    "\n",
    "# Call cont2discrete function with bilinear transformation method\n",
    "Ad,Bd,_,_,_ = cont2discrete((A,B,C,D),T,method='zoh')\n",
    "\n",
    "# Print discrete-time matrices\n",
    "print(\"Ad =\",Ad)\n",
    "print(\"Bd =\",Bd)\n",
    "#print(\"Cd =\",Cd)\n",
    "#print(\"Dd =\",Dd)\n",
    "\n",
    "\n",
    "#l_system = lti(A, B, C, D)\n",
    "#t, x = l_system.step(T=np.linspace(0, 10, 5000))\n",
    "#fig, ax = plt.subplots()\n",
    "#ax.plot(t, x, label='Continuous', linewidth=3)\n",
    "\n",
    "#dt = 0.1\n",
    "#d_system = cont2discrete((A, B, C, D), dt, method='zoh')\n",
    "#s, x_d = dstep(d_system)\n",
    "#fig, ax = plt.subplots()\n",
    "#ax.plot(t, x, label='Continuous', linewidth=3)\n",
    "\n",
    "\n",
    "\n"
   ]
  },
  {
   "cell_type": "code",
   "execution_count": null,
   "id": "366540e3",
   "metadata": {},
   "outputs": [],
   "source": []
  },
  {
   "cell_type": "code",
   "execution_count": 6,
   "id": "713b02c3",
   "metadata": {},
   "outputs": [
    {
     "name": "stdout",
     "output_type": "stream",
     "text": [
      "[[10.   0.   0.   0. ]\n",
      " [ 0.  10.   0.   0. ]\n",
      " [ 0.   0.   0.1  0. ]\n",
      " [ 0.   0.   0.   0.1]]\n",
      "[  -4.47213595, -236.06515294,  -12.71876089, -144.3119975 ]\n"
     ]
    }
   ],
   "source": [
    "import control as ct\n",
    "# LQR\n",
    "\n",
    "Q = np.eye(4) * np.array([10,10,.1, .1])\n",
    "print(Q)\n",
    "R = np.eye(1) * 0.5\n",
    "\n",
    "K, S, E = ct.lqr(A, B, Q, R)\n",
    "\n",
    "\n",
    "\n",
    "K_str = np.array2string(K.flatten(), separator=', ')\n",
    "\n",
    "print(K_str)\n",
    "\n"
   ]
  },
  {
   "cell_type": "code",
   "execution_count": 325,
   "id": "ad37b9fa",
   "metadata": {},
   "outputs": [
    {
     "name": "stdout",
     "output_type": "stream",
     "text": [
      "Original matrix A:\n"
     ]
    },
    {
     "data": {
      "text/latex": [
       "$\\displaystyle \\left[\\begin{matrix}g l m_{1} & \\frac{g l m_{2}}{2}\\\\m_{1} + m_{2} & l \\left(m_{1} - m_{2}\\right)\\end{matrix}\\right]$"
      ],
      "text/plain": [
       "⎡           g⋅l⋅m₂   ⎤\n",
       "⎢g⋅l⋅m₁     ──────   ⎥\n",
       "⎢             2      ⎥\n",
       "⎢                    ⎥\n",
       "⎣m₁ + m₂  l⋅(m₁ - m₂)⎦"
      ]
     },
     "metadata": {},
     "output_type": "display_data"
    },
    {
     "name": "stdout",
     "output_type": "stream",
     "text": [
      "\n",
      "Matrix A with substituted values:\n",
      "Matrix([[196.200000000000, 19.6200000000000], [6, 16.0000000000000]])\n"
     ]
    }
   ],
   "source": [
    "import sympy as sp\n",
    "\n",
    "# Define symbols\n",
    "m1, m2, g, l = sp.symbols('m1 m2 g l')\n",
    "\n",
    "# Create a symbolic matrix A\n",
    "A = sp.Matrix([\n",
    "    [m1 * g * l, m2 * g * l / 2],\n",
    "    [m1 + m2, l * (m1 - m2)]\n",
    "])\n",
    "\n",
    "# Print the original matrix\n",
    "print(\"Original matrix A:\")\n",
    "display(A)\n",
    "\n",
    "# Create a dictionary for the substitutions\n",
    "subs_dict = {m1: 5, m2: 1, g: 9.81, l: 4.0}\n",
    "\n",
    "# Substitute the numerical values in the matrix\n",
    "A_substituted = A.subs(subs_dict)\n",
    "\n",
    "# Print the matrix with substituted values\n",
    "print(\"\\nMatrix A with substituted values:\")\n",
    "print(A_substituted)"
   ]
  },
  {
   "cell_type": "code",
   "execution_count": null,
   "id": "4c961682",
   "metadata": {},
   "outputs": [],
   "source": []
  }
 ],
 "metadata": {
  "kernelspec": {
   "display_name": "Python 3 (ipykernel)",
   "language": "python",
   "name": "python3"
  },
  "language_info": {
   "codemirror_mode": {
    "name": "ipython",
    "version": 3
   },
   "file_extension": ".py",
   "mimetype": "text/x-python",
   "name": "python",
   "nbconvert_exporter": "python",
   "pygments_lexer": "ipython3",
   "version": "3.10.8"
  }
 },
 "nbformat": 4,
 "nbformat_minor": 5
}
